{
 "cells": [
  {
   "cell_type": "markdown",
   "id": "5b7e2d87",
   "metadata": {},
   "source": [
    "# Capstone Project - Predicting 30-day Readmission for Diabetic Patients"
   ]
  },
  {
   "cell_type": "markdown",
   "id": "5ee44bc3",
   "metadata": {},
   "source": [
    "## Step 1: Load and Prepare the Data"
   ]
  },
  {
   "cell_type": "code",
   "execution_count": null,
   "id": "28070870",
   "metadata": {},
   "outputs": [],
   "source": [
    "import pandas as pd\n",
    "import numpy as np\n",
    "\n",
    "df = pd.read_csv(\"diabetic_data.csv\")\n",
    "df[\"readmitted_binary\"] = df[\"readmitted\"].apply(lambda x: 1 if x == \"<30\" else 0)\n",
    "\n",
    "# Drop irrelevant or high-missing columns\n",
    "df_clean = df.drop(columns=[\"encounter_id\", \"patient_nbr\", \"weight\", \"payer_code\", \"medical_specialty\", \"readmitted\"])\n",
    "df_clean.replace(\"?\", np.nan, inplace=True)\n",
    "df_clean.dropna(inplace=True)\n",
    "\n",
    "# Encode categorical variables\n",
    "from sklearn.preprocessing import LabelEncoder\n",
    "label_cols = df_clean.select_dtypes(include=[\"object\"]).columns\n",
    "label_encoders = {}\n",
    "for col in label_cols:\n",
    "    le = LabelEncoder()\n",
    "    df_clean[col] = le.fit_transform(df_clean[col])\n",
    "    label_encoders[col] = le\n",
    "\n",
    "df_clean.head()"
   ]
  },
  {
   "cell_type": "markdown",
   "id": "239f70a2",
   "metadata": {},
   "source": [
    "## Step 2: Feature Selection (Correlation Matrix)"
   ]
  },
  {
   "cell_type": "code",
   "execution_count": null,
   "id": "ce5a707d",
   "metadata": {},
   "outputs": [],
   "source": [
    "import seaborn as sns\n",
    "import matplotlib.pyplot as plt\n",
    "\n",
    "corr = df_clean.corr()\n",
    "plt.figure(figsize=(12, 10))\n",
    "sns.heatmap(corr, cmap=\"coolwarm\", annot=False)\n",
    "plt.title(\"Feature Correlation Matrix\")\n",
    "plt.tight_layout()\n",
    "plt.show()"
   ]
  },
  {
   "cell_type": "markdown",
   "id": "04abe14c",
   "metadata": {},
   "source": [
    "## Step 3: Addressing Class Imbalance with SMOTE"
   ]
  },
  {
   "cell_type": "code",
   "execution_count": null,
   "id": "8d7b20e8",
   "metadata": {},
   "outputs": [],
   "source": [
    "from imblearn.over_sampling import SMOTE\n",
    "from sklearn.model_selection import train_test_split\n",
    "\n",
    "X = df_clean.drop(columns=[\"readmitted_binary\"])\n",
    "y = df_clean[\"readmitted_binary\"]\n",
    "\n",
    "# Split before SMOTE\n",
    "X_train, X_test, y_train, y_test = train_test_split(X, y, test_size=0.2, random_state=42)\n",
    "\n",
    "# Apply SMOTE to training set\n",
    "smote = SMOTE(random_state=42)\n",
    "X_train_res, y_train_res = smote.fit_resample(X_train, y_train)\n",
    "\n",
    "print(\"Before SMOTE:\", y_train.value_counts())\n",
    "print(\"After SMOTE:\", pd.Series(y_train_res).value_counts())"
   ]
  },
  {
   "cell_type": "markdown",
   "id": "07617d0d",
   "metadata": {},
   "source": [
    "## Step 4: Train and Compare Multiple Models"
   ]
  },
  {
   "cell_type": "code",
   "execution_count": null,
   "id": "c529553b",
   "metadata": {},
   "outputs": [],
   "source": [
    "from sklearn.linear_model import LogisticRegression\n",
    "from sklearn.tree import DecisionTreeClassifier\n",
    "from sklearn.ensemble import RandomForestClassifier\n",
    "\n",
    "models = {\n",
    "    \"Logistic Regression\": LogisticRegression(max_iter=1000),\n",
    "    \"Decision Tree\": DecisionTreeClassifier(),\n",
    "    \"Random Forest\": RandomForestClassifier()\n",
    "}\n",
    "\n",
    "for name, model in models.items():\n",
    "    model.fit(X_train_res, y_train_res)\n",
    "    y_pred = model.predict(X_test)\n",
    "    print(f\"\\n{name}\")\n",
    "    print(classification_report(y_test, y_pred))"
   ]
  },
  {
   "cell_type": "markdown",
   "id": "04b2fe89",
   "metadata": {},
   "source": [
    "## Step 5: Visualize Confusion Matrix of the Best Model (Random Forest)"
   ]
  },
  {
   "cell_type": "code",
   "execution_count": null,
   "id": "f66e95a7",
   "metadata": {},
   "outputs": [],
   "source": [
    "from sklearn.metrics import confusion_matrix\n",
    "\n",
    "rf_model = RandomForestClassifier()\n",
    "rf_model.fit(X_train_res, y_train_res)\n",
    "y_pred_rf = rf_model.predict(X_test)\n",
    "\n",
    "conf_matrix = confusion_matrix(y_test, y_pred_rf)\n",
    "plt.figure(figsize=(6, 4))\n",
    "sns.heatmap(conf_matrix, annot=True, fmt=\"d\", cmap=\"Blues\",\n",
    "            xticklabels=[\"Not Readmitted\", \"Readmitted\"],\n",
    "            yticklabels=[\"Not Readmitted\", \"Readmitted\"])\n",
    "plt.xlabel(\"Predicted\")\n",
    "plt.ylabel(\"Actual\")\n",
    "plt.title(\"Random Forest Confusion Matrix\")\n",
    "plt.tight_layout()\n",
    "plt.show()"
   ]
  }
 ],
 "metadata": {},
 "nbformat": 4,
 "nbformat_minor": 5
}
