{
 "cells": [
  {
   "cell_type": "markdown",
   "id": "a8362843",
   "metadata": {},
   "source": [
    "# Capstone Project - Predicting 30-day Readmission for Diabetic Patients"
   ]
  },
  {
   "cell_type": "markdown",
   "id": "14136547",
   "metadata": {},
   "source": [
    "## Step 1: Load and Preview Data"
   ]
  },
  {
   "cell_type": "code",
   "execution_count": null,
   "id": "20ac9d4c",
   "metadata": {},
   "outputs": [],
   "source": [
    "import pandas as pd\n",
    "import numpy as np\n",
    "\n",
    "# Load the dataset\n",
    "df = pd.read_csv(\"diabetic_data.csv\")\n",
    "\n",
    "# Create binary target variable: 1 if readmitted within 30 days, else 0\n",
    "df[\"readmitted_binary\"] = df[\"readmitted\"].apply(lambda x: 1 if x == \"<30\" else 0)\n",
    "df.head()"
   ]
  },
  {
   "cell_type": "markdown",
   "id": "7b0d71a6",
   "metadata": {},
   "source": [
    "## Step 2: Clean and Prepare the Data"
   ]
  },
  {
   "cell_type": "code",
   "execution_count": null,
   "id": "43669331",
   "metadata": {},
   "outputs": [],
   "source": [
    "# Drop unneeded columns and handle missing values\n",
    "df_clean = df.drop(columns=[\"encounter_id\", \"patient_nbr\", \"weight\", \"payer_code\", \"medical_specialty\", \"readmitted\"])\n",
    "df_clean.replace(\"?\", np.nan, inplace=True)\n",
    "df_clean.dropna(inplace=True)\n",
    "\n",
    "# Encode categorical variables\n",
    "from sklearn.preprocessing import LabelEncoder\n",
    "label_cols = df_clean.select_dtypes(include=[\"object\"]).columns\n",
    "label_encoders = {}\n",
    "for col in label_cols:\n",
    "    le = LabelEncoder()\n",
    "    df_clean[col] = le.fit_transform(df_clean[col])\n",
    "    label_encoders[col] = le\n",
    "\n",
    "df_clean.head()"
   ]
  },
  {
   "cell_type": "markdown",
   "id": "8fadebf9",
   "metadata": {},
   "source": [
    "## Step 3: Train Logistic Regression Model"
   ]
  },
  {
   "cell_type": "code",
   "execution_count": null,
   "id": "d6403472",
   "metadata": {},
   "outputs": [],
   "source": [
    "from sklearn.model_selection import train_test_split\n",
    "from sklearn.linear_model import LogisticRegression\n",
    "\n",
    "# Split data\n",
    "X = df_clean.drop(columns=[\"readmitted_binary\"])\n",
    "y = df_clean[\"readmitted_binary\"]\n",
    "X_train, X_test, y_train, y_test = train_test_split(X, y, test_size=0.2, random_state=42)\n",
    "\n",
    "# Train model\n",
    "model = LogisticRegression(max_iter=1000)\n",
    "model.fit(X_train, y_train)\n",
    "y_pred = model.predict(X_test)"
   ]
  },
  {
   "cell_type": "markdown",
   "id": "2b02e8e9",
   "metadata": {},
   "source": [
    "## Step 4: Evaluate the Model"
   ]
  },
  {
   "cell_type": "code",
   "execution_count": null,
   "id": "97bbbea9",
   "metadata": {},
   "outputs": [],
   "source": [
    "from sklearn.metrics import classification_report, confusion_matrix\n",
    "import matplotlib.pyplot as plt\n",
    "import seaborn as sns\n",
    "\n",
    "# Print classification report\n",
    "print(classification_report(y_test, y_pred))\n",
    "\n",
    "# Plot confusion matrix\n",
    "conf_matrix = confusion_matrix(y_test, y_pred)\n",
    "plt.figure(figsize=(6, 4))\n",
    "sns.heatmap(conf_matrix, annot=True, fmt=\"d\", cmap=\"Blues\",\n",
    "            xticklabels=[\"Not Readmitted\", \"Readmitted\"],\n",
    "            yticklabels=[\"Not Readmitted\", \"Readmitted\"])\n",
    "plt.xlabel(\"Predicted\")\n",
    "plt.ylabel(\"Actual\")\n",
    "plt.title(\"Confusion Matrix\")\n",
    "plt.tight_layout()\n",
    "plt.show()"
   ]
  }
 ],
 "metadata": {},
 "nbformat": 4,
 "nbformat_minor": 5
}
